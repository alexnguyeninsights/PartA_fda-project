{
 "cells": [
  {
   "cell_type": "markdown",
   "metadata": {},
   "source": [
    "# Projects for Analysis of Anti-Depressant Drugs’s Adverse Events by FDA Adverse Event Reporting System (FAERS) from January 2019 to December 2023"
   ]
  },
  {
   "cell_type": "markdown",
   "metadata": {},
   "source": [
    "## 1. MERGE DATA"
   ]
  },
  {
   "cell_type": "code",
   "execution_count": 1,
   "metadata": {},
   "outputs": [],
   "source": [
    "# load library\n",
    "import pandas as pd\n",
    "import numpy as np"
   ]
  },
  {
   "cell_type": "code",
   "execution_count": 2,
   "metadata": {},
   "outputs": [
    {
     "name": "stdout",
     "output_type": "stream",
     "text": [
      "DEMO19Q1\n"
     ]
    },
    {
     "name": "stderr",
     "output_type": "stream",
     "text": [
      "/var/folders/_z/wx40qqws337c64bjr5v3vh_80000gn/T/ipykernel_4908/2175855271.py:12: DtypeWarning: Columns (21) have mixed types. Specify dtype option on import or set low_memory=False.\n",
      "  dict_df[prefix] = pd.read_csv(f'{filename}.txt', sep='$', encoding_errors='ignore')\n"
     ]
    },
    {
     "name": "stdout",
     "output_type": "stream",
     "text": [
      "DRUG19Q1\n"
     ]
    },
    {
     "name": "stderr",
     "output_type": "stream",
     "text": [
      "/var/folders/_z/wx40qqws337c64bjr5v3vh_80000gn/T/ipykernel_4908/2175855271.py:12: DtypeWarning: Columns (14) have mixed types. Specify dtype option on import or set low_memory=False.\n",
      "  dict_df[prefix] = pd.read_csv(f'{filename}.txt', sep='$', encoding_errors='ignore')\n"
     ]
    },
    {
     "name": "stdout",
     "output_type": "stream",
     "text": [
      "INDI19Q1\n",
      "OUTC19Q1\n",
      "REAC19Q1\n",
      "RPSR19Q1\n",
      "THER19Q1\n"
     ]
    },
    {
     "name": "stderr",
     "output_type": "stream",
     "text": [
      "/var/folders/_z/wx40qqws337c64bjr5v3vh_80000gn/T/ipykernel_4908/2175855271.py:12: DtypeWarning: Columns (6) have mixed types. Specify dtype option on import or set low_memory=False.\n",
      "  dict_df[prefix] = pd.read_csv(f'{filename}.txt', sep='$', encoding_errors='ignore')\n"
     ]
    },
    {
     "name": "stdout",
     "output_type": "stream",
     "text": [
      "   primaryid    caseid  drug_seq role_cod     drugname     prod_ai  val_vbm  \\\n",
      "0  103516324  10351632        10        C  QUETIAPINE.  QUETIAPINE        1   \n",
      "1  103516324  10351632        10        C  QUETIAPINE.  QUETIAPINE        1   \n",
      "2  103516324  10351632        10        C  QUETIAPINE.  QUETIAPINE        1   \n",
      "3  103516324  10351632        10        C  QUETIAPINE.  QUETIAPINE        1   \n",
      "4  103516324  10351632        10        C  QUETIAPINE.  QUETIAPINE        1   \n",
      "\n",
      "  route                     dose_vbm  cum_dose_chr  ... to_mfr occp_cod  \\\n",
      "0   NaN  25 MG, 1X/DAY (AT BED TIME)           NaN  ...    NaN       MD   \n",
      "1   NaN  25 MG, 1X/DAY (AT BED TIME)           NaN  ...    NaN       MD   \n",
      "2   NaN  25 MG, 1X/DAY (AT BED TIME)           NaN  ...    NaN       MD   \n",
      "3   NaN  25 MG, 1X/DAY (AT BED TIME)           NaN  ...    NaN       MD   \n",
      "4   NaN  25 MG, 1X/DAY (AT BED TIME)           NaN  ...    NaN       MD   \n",
      "\n",
      "  reporter_country occr_country                        pt  drug_rec_act  \\\n",
      "0               US           US                Bronchitis           NaN   \n",
      "1               US           US         Confusional state           NaN   \n",
      "2               US           US                 Diarrhoea           NaN   \n",
      "3               US           US  Disturbance in attention           NaN   \n",
      "4               US           US          Feeling abnormal           NaN   \n",
      "\n",
      "   outc_cod rpsr_cod  year quarter  \n",
      "0       NaN      NaN  2019       1  \n",
      "1       NaN      NaN  2019       1  \n",
      "2       NaN      NaN  2019       1  \n",
      "3       NaN      NaN  2019       1  \n",
      "4       NaN      NaN  2019       1  \n",
      "\n",
      "[5 rows x 56 columns]\n",
      "DEMO19Q2\n"
     ]
    },
    {
     "name": "stderr",
     "output_type": "stream",
     "text": [
      "/var/folders/_z/wx40qqws337c64bjr5v3vh_80000gn/T/ipykernel_4908/2175855271.py:12: DtypeWarning: Columns (21) have mixed types. Specify dtype option on import or set low_memory=False.\n",
      "  dict_df[prefix] = pd.read_csv(f'{filename}.txt', sep='$', encoding_errors='ignore')\n"
     ]
    },
    {
     "name": "stdout",
     "output_type": "stream",
     "text": [
      "DRUG19Q2\n"
     ]
    },
    {
     "name": "stderr",
     "output_type": "stream",
     "text": [
      "/var/folders/_z/wx40qqws337c64bjr5v3vh_80000gn/T/ipykernel_4908/2175855271.py:12: DtypeWarning: Columns (14) have mixed types. Specify dtype option on import or set low_memory=False.\n",
      "  dict_df[prefix] = pd.read_csv(f'{filename}.txt', sep='$', encoding_errors='ignore')\n"
     ]
    },
    {
     "name": "stdout",
     "output_type": "stream",
     "text": [
      "INDI19Q2\n",
      "OUTC19Q2\n",
      "REAC19Q2\n",
      "RPSR19Q2\n",
      "THER19Q2\n"
     ]
    },
    {
     "name": "stderr",
     "output_type": "stream",
     "text": [
      "/var/folders/_z/wx40qqws337c64bjr5v3vh_80000gn/T/ipykernel_4908/2175855271.py:12: DtypeWarning: Columns (6) have mixed types. Specify dtype option on import or set low_memory=False.\n",
      "  dict_df[prefix] = pd.read_csv(f'{filename}.txt', sep='$', encoding_errors='ignore')\n"
     ]
    },
    {
     "name": "stdout",
     "output_type": "stream",
     "text": [
      "   primaryid    caseid  drug_seq role_cod    drugname  \\\n",
      "0  101634647  10163464         3        C     REMERON   \n",
      "1  101634647  10163464         3        C     REMERON   \n",
      "2  101634647  10163464         3        C     REMERON   \n",
      "3  101634647  10163464         9        C  WELLBUTRIN   \n",
      "4  101634647  10163464         9        C  WELLBUTRIN   \n",
      "\n",
      "                   prod_ai  val_vbm route    dose_vbm  cum_dose_chr  ...  \\\n",
      "0              MIRTAZAPINE        1  Oral  15 MG, UNK           NaN  ...   \n",
      "1              MIRTAZAPINE        1  Oral  15 MG, UNK           NaN  ...   \n",
      "2              MIRTAZAPINE        1  Oral  15 MG, UNK           NaN  ...   \n",
      "3  BUPROPION HYDROCHLORIDE        1  Oral  150 MG, QD           NaN  ...   \n",
      "4  BUPROPION HYDROCHLORIDE        1  Oral  150 MG, QD           NaN  ...   \n",
      "\n",
      "  to_mfr occp_cod reporter_country occr_country  \\\n",
      "0    NaN       OT               IT           IT   \n",
      "1    NaN       OT               IT           IT   \n",
      "2    NaN       OT               IT           IT   \n",
      "3    NaN       OT               IT           IT   \n",
      "4    NaN       OT               IT           IT   \n",
      "\n",
      "                               pt  drug_rec_act  outc_cod rpsr_cod  year  \\\n",
      "0        Blood pressure decreased           NaN        HO      NaN  2019   \n",
      "1  Electrocardiogram QT prolonged           NaN        HO      NaN  2019   \n",
      "2       Ventricular extrasystoles           NaN        HO      NaN  2019   \n",
      "3        Blood pressure decreased           NaN        HO      NaN  2019   \n",
      "4  Electrocardiogram QT prolonged           NaN        HO      NaN  2019   \n",
      "\n",
      "  quarter  \n",
      "0       2  \n",
      "1       2  \n",
      "2       2  \n",
      "3       2  \n",
      "4       2  \n",
      "\n",
      "[5 rows x 56 columns]\n",
      "DEMO19Q3\n"
     ]
    },
    {
     "name": "stderr",
     "output_type": "stream",
     "text": [
      "/var/folders/_z/wx40qqws337c64bjr5v3vh_80000gn/T/ipykernel_4908/2175855271.py:12: DtypeWarning: Columns (21) have mixed types. Specify dtype option on import or set low_memory=False.\n",
      "  dict_df[prefix] = pd.read_csv(f'{filename}.txt', sep='$', encoding_errors='ignore')\n"
     ]
    },
    {
     "name": "stdout",
     "output_type": "stream",
     "text": [
      "DRUG19Q3\n"
     ]
    },
    {
     "name": "stderr",
     "output_type": "stream",
     "text": [
      "/var/folders/_z/wx40qqws337c64bjr5v3vh_80000gn/T/ipykernel_4908/2175855271.py:12: DtypeWarning: Columns (14) have mixed types. Specify dtype option on import or set low_memory=False.\n",
      "  dict_df[prefix] = pd.read_csv(f'{filename}.txt', sep='$', encoding_errors='ignore')\n"
     ]
    },
    {
     "name": "stdout",
     "output_type": "stream",
     "text": [
      "INDI19Q3\n",
      "OUTC19Q3\n",
      "REAC19Q3\n",
      "RPSR19Q3\n",
      "THER19Q3\n"
     ]
    },
    {
     "name": "stderr",
     "output_type": "stream",
     "text": [
      "/var/folders/_z/wx40qqws337c64bjr5v3vh_80000gn/T/ipykernel_4908/2175855271.py:12: DtypeWarning: Columns (6) have mixed types. Specify dtype option on import or set low_memory=False.\n",
      "  dict_df[prefix] = pd.read_csv(f'{filename}.txt', sep='$', encoding_errors='ignore')\n"
     ]
    },
    {
     "name": "stdout",
     "output_type": "stream",
     "text": [
      "   primaryid    caseid  drug_seq role_cod    drugname  \\\n",
      "0  100514015  10051401         1       PS  EFFEXOR XR   \n",
      "1  100514015  10051401         1       PS  EFFEXOR XR   \n",
      "2  100514015  10051401         1       PS  EFFEXOR XR   \n",
      "3  100514015  10051401         1       PS  EFFEXOR XR   \n",
      "4  100514015  10051401         1       PS  EFFEXOR XR   \n",
      "\n",
      "                     prod_ai  val_vbm route    dose_vbm  cum_dose_chr  ...  \\\n",
      "0  VENLAFAXINE HYDROCHLORIDE        1  Oral  75 MG, UNK           NaN  ...   \n",
      "1  VENLAFAXINE HYDROCHLORIDE        1  Oral  75 MG, UNK           NaN  ...   \n",
      "2  VENLAFAXINE HYDROCHLORIDE        1  Oral  75 MG, UNK           NaN  ...   \n",
      "3  VENLAFAXINE HYDROCHLORIDE        1  Oral  75 MG, UNK           NaN  ...   \n",
      "4  VENLAFAXINE HYDROCHLORIDE        1  Oral  75 MG, UNK           NaN  ...   \n",
      "\n",
      "  to_mfr occp_cod reporter_country occr_country                        pt  \\\n",
      "0    NaN       MD               US           US      Autoimmune hepatitis   \n",
      "1    NaN       MD               US           US  Hepatic enzyme increased   \n",
      "2    NaN       MD               US           US             Hyperhidrosis   \n",
      "3    NaN       MD               US           US                   Malaise   \n",
      "4    NaN       MD               US           US         Tinea versicolour   \n",
      "\n",
      "   drug_rec_act  outc_cod rpsr_cod  year quarter  \n",
      "0           NaN        OT      NaN  2019       3  \n",
      "1           NaN        OT      NaN  2019       3  \n",
      "2           NaN        OT      NaN  2019       3  \n",
      "3           NaN        OT      NaN  2019       3  \n",
      "4           NaN        OT      NaN  2019       3  \n",
      "\n",
      "[5 rows x 56 columns]\n",
      "DEMO19Q4\n"
     ]
    },
    {
     "name": "stderr",
     "output_type": "stream",
     "text": [
      "/var/folders/_z/wx40qqws337c64bjr5v3vh_80000gn/T/ipykernel_4908/2175855271.py:12: DtypeWarning: Columns (21) have mixed types. Specify dtype option on import or set low_memory=False.\n",
      "  dict_df[prefix] = pd.read_csv(f'{filename}.txt', sep='$', encoding_errors='ignore')\n"
     ]
    },
    {
     "name": "stdout",
     "output_type": "stream",
     "text": [
      "DRUG19Q4\n"
     ]
    },
    {
     "name": "stderr",
     "output_type": "stream",
     "text": [
      "/var/folders/_z/wx40qqws337c64bjr5v3vh_80000gn/T/ipykernel_4908/2175855271.py:12: DtypeWarning: Columns (14) have mixed types. Specify dtype option on import or set low_memory=False.\n",
      "  dict_df[prefix] = pd.read_csv(f'{filename}.txt', sep='$', encoding_errors='ignore')\n"
     ]
    },
    {
     "name": "stdout",
     "output_type": "stream",
     "text": [
      "INDI19Q4\n",
      "OUTC19Q4\n",
      "REAC19Q4\n",
      "RPSR19Q4\n",
      "THER19Q4\n"
     ]
    },
    {
     "name": "stderr",
     "output_type": "stream",
     "text": [
      "/var/folders/_z/wx40qqws337c64bjr5v3vh_80000gn/T/ipykernel_4908/2175855271.py:12: DtypeWarning: Columns (6) have mixed types. Specify dtype option on import or set low_memory=False.\n",
      "  dict_df[prefix] = pd.read_csv(f'{filename}.txt', sep='$', encoding_errors='ignore')\n"
     ]
    },
    {
     "name": "stdout",
     "output_type": "stream",
     "text": [
      "   primaryid    caseid  drug_seq role_cod    drugname  \\\n",
      "0  100514017  10051401         1       PS  EFFEXOR XR   \n",
      "1  100514017  10051401         1       PS  EFFEXOR XR   \n",
      "2  100514017  10051401         1       PS  EFFEXOR XR   \n",
      "3  100514017  10051401         1       PS  EFFEXOR XR   \n",
      "4  100514017  10051401         1       PS  EFFEXOR XR   \n",
      "\n",
      "                     prod_ai  val_vbm route    dose_vbm  cum_dose_chr  ...  \\\n",
      "0  VENLAFAXINE HYDROCHLORIDE        1  Oral  75 MG, UNK           NaN  ...   \n",
      "1  VENLAFAXINE HYDROCHLORIDE        1  Oral  75 MG, UNK           NaN  ...   \n",
      "2  VENLAFAXINE HYDROCHLORIDE        1  Oral  75 MG, UNK           NaN  ...   \n",
      "3  VENLAFAXINE HYDROCHLORIDE        1  Oral  75 MG, UNK           NaN  ...   \n",
      "4  VENLAFAXINE HYDROCHLORIDE        1  Oral  75 MG, UNK           NaN  ...   \n",
      "\n",
      "  to_mfr occp_cod reporter_country occr_country                        pt  \\\n",
      "0    NaN       CN               US           US      Autoimmune hepatitis   \n",
      "1    NaN       CN               US           US           Drug dependence   \n",
      "2    NaN       CN               US           US  Hepatic enzyme increased   \n",
      "3    NaN       CN               US           US             Hyperhidrosis   \n",
      "4    NaN       CN               US           US                   Malaise   \n",
      "\n",
      "   drug_rec_act  outc_cod rpsr_cod  year quarter  \n",
      "0           NaN        OT      NaN  2019       4  \n",
      "1           NaN        OT      NaN  2019       4  \n",
      "2           NaN        OT      NaN  2019       4  \n",
      "3           NaN        OT      NaN  2019       4  \n",
      "4           NaN        OT      NaN  2019       4  \n",
      "\n",
      "[5 rows x 56 columns]\n",
      "DEMO20Q1\n"
     ]
    },
    {
     "name": "stderr",
     "output_type": "stream",
     "text": [
      "/var/folders/_z/wx40qqws337c64bjr5v3vh_80000gn/T/ipykernel_4908/2175855271.py:12: DtypeWarning: Columns (21) have mixed types. Specify dtype option on import or set low_memory=False.\n",
      "  dict_df[prefix] = pd.read_csv(f'{filename}.txt', sep='$', encoding_errors='ignore')\n"
     ]
    },
    {
     "name": "stdout",
     "output_type": "stream",
     "text": [
      "DRUG20Q1\n"
     ]
    },
    {
     "name": "stderr",
     "output_type": "stream",
     "text": [
      "/var/folders/_z/wx40qqws337c64bjr5v3vh_80000gn/T/ipykernel_4908/2175855271.py:12: DtypeWarning: Columns (14) have mixed types. Specify dtype option on import or set low_memory=False.\n",
      "  dict_df[prefix] = pd.read_csv(f'{filename}.txt', sep='$', encoding_errors='ignore')\n"
     ]
    },
    {
     "name": "stdout",
     "output_type": "stream",
     "text": [
      "INDI20Q1\n",
      "OUTC20Q1\n",
      "REAC20Q1\n",
      "RPSR20Q1\n",
      "THER20Q1\n"
     ]
    },
    {
     "name": "stderr",
     "output_type": "stream",
     "text": [
      "/var/folders/_z/wx40qqws337c64bjr5v3vh_80000gn/T/ipykernel_4908/2175855271.py:12: DtypeWarning: Columns (6) have mixed types. Specify dtype option on import or set low_memory=False.\n",
      "  dict_df[prefix] = pd.read_csv(f'{filename}.txt', sep='$', encoding_errors='ignore')\n"
     ]
    },
    {
     "name": "stdout",
     "output_type": "stream",
     "text": [
      "   primaryid    caseid  drug_seq role_cod drugname                   prod_ai  \\\n",
      "0  114797595  11479759        25        C   PROZAC  FLUOXETINE HYDROCHLORIDE   \n",
      "1  114797595  11479759        25        C   PROZAC  FLUOXETINE HYDROCHLORIDE   \n",
      "2  114797595  11479759        25        C   PROZAC  FLUOXETINE HYDROCHLORIDE   \n",
      "3  114797595  11479759        25        C   PROZAC  FLUOXETINE HYDROCHLORIDE   \n",
      "4  114797595  11479759        25        C   PROZAC  FLUOXETINE HYDROCHLORIDE   \n",
      "\n",
      "   val_vbm route dose_vbm  cum_dose_chr  ... to_mfr occp_cod reporter_country  \\\n",
      "0        1   NaN      UNK           NaN  ...    NaN      NaN               US   \n",
      "1        1   NaN      UNK           NaN  ...    NaN      NaN               US   \n",
      "2        1   NaN      UNK           NaN  ...    NaN      NaN               US   \n",
      "3        1   NaN      UNK           NaN  ...    NaN      NaN               US   \n",
      "4        1   NaN      UNK           NaN  ...    NaN      NaN               US   \n",
      "\n",
      "  occr_country                                pt  drug_rec_act  outc_cod  \\\n",
      "0           US                Bronchitis chronic           NaN        OT   \n",
      "1           US              Condition aggravated           NaN        OT   \n",
      "2           US                             Cough           NaN        OT   \n",
      "3           US                            Crying           NaN        OT   \n",
      "4           US  Depressed level of consciousness           NaN        OT   \n",
      "\n",
      "  rpsr_cod  year quarter  \n",
      "0      NaN  2020       1  \n",
      "1      NaN  2020       1  \n",
      "2      NaN  2020       1  \n",
      "3      NaN  2020       1  \n",
      "4      NaN  2020       1  \n",
      "\n",
      "[5 rows x 56 columns]\n",
      "DEMO20Q2\n"
     ]
    },
    {
     "name": "stderr",
     "output_type": "stream",
     "text": [
      "/var/folders/_z/wx40qqws337c64bjr5v3vh_80000gn/T/ipykernel_4908/2175855271.py:12: DtypeWarning: Columns (21) have mixed types. Specify dtype option on import or set low_memory=False.\n",
      "  dict_df[prefix] = pd.read_csv(f'{filename}.txt', sep='$', encoding_errors='ignore')\n"
     ]
    },
    {
     "name": "stdout",
     "output_type": "stream",
     "text": [
      "DRUG20Q2\n"
     ]
    },
    {
     "name": "stderr",
     "output_type": "stream",
     "text": [
      "/var/folders/_z/wx40qqws337c64bjr5v3vh_80000gn/T/ipykernel_4908/2175855271.py:12: DtypeWarning: Columns (14) have mixed types. Specify dtype option on import or set low_memory=False.\n",
      "  dict_df[prefix] = pd.read_csv(f'{filename}.txt', sep='$', encoding_errors='ignore')\n"
     ]
    },
    {
     "name": "stdout",
     "output_type": "stream",
     "text": [
      "INDI20Q2\n",
      "OUTC20Q2\n",
      "REAC20Q2\n",
      "RPSR20Q2\n",
      "THER20Q2\n"
     ]
    },
    {
     "name": "stderr",
     "output_type": "stream",
     "text": [
      "/var/folders/_z/wx40qqws337c64bjr5v3vh_80000gn/T/ipykernel_4908/2175855271.py:12: DtypeWarning: Columns (6) have mixed types. Specify dtype option on import or set low_memory=False.\n",
      "  dict_df[prefix] = pd.read_csv(f'{filename}.txt', sep='$', encoding_errors='ignore')\n"
     ]
    },
    {
     "name": "stdout",
     "output_type": "stream",
     "text": [
      "   primaryid    caseid  drug_seq role_cod            drugname      prod_ai  \\\n",
      "0  105132223  10513222         2       SS  Mirtazapine tablet  MIRTAZAPINE   \n",
      "1  105132223  10513222         2       SS  Mirtazapine tablet  MIRTAZAPINE   \n",
      "2  105132223  10513222         2       SS  Mirtazapine tablet  MIRTAZAPINE   \n",
      "3  105132223  10513222         2       SS  Mirtazapine tablet  MIRTAZAPINE   \n",
      "4  105132223  10513222         2       SS  Mirtazapine tablet  MIRTAZAPINE   \n",
      "\n",
      "   val_vbm route dose_vbm  cum_dose_chr  ... to_mfr occp_cod reporter_country  \\\n",
      "0        1   NaN      NaN           NaN  ...    NaN       MD               CA   \n",
      "1        1   NaN      NaN           NaN  ...    NaN       MD               CA   \n",
      "2        1   NaN      NaN           NaN  ...    NaN       MD               CA   \n",
      "3        1   NaN      NaN           NaN  ...    NaN       MD               CA   \n",
      "4        1   NaN      NaN           NaN  ...    NaN       MD               CA   \n",
      "\n",
      "  occr_country                    pt  drug_rec_act  outc_cod rpsr_cod  year  \\\n",
      "0           CA  Abdominal discomfort           NaN        HO      NaN  2020   \n",
      "1           CA  Abdominal discomfort           NaN        OT      NaN  2020   \n",
      "2           CA  Abdominal discomfort           NaN        DE      NaN  2020   \n",
      "3           CA  Abdominal distension           NaN        HO      NaN  2020   \n",
      "4           CA  Abdominal distension           NaN        OT      NaN  2020   \n",
      "\n",
      "  quarter  \n",
      "0       2  \n",
      "1       2  \n",
      "2       2  \n",
      "3       2  \n",
      "4       2  \n",
      "\n",
      "[5 rows x 56 columns]\n",
      "DEMO20Q3\n",
      "DRUG20Q3\n"
     ]
    },
    {
     "name": "stderr",
     "output_type": "stream",
     "text": [
      "/var/folders/_z/wx40qqws337c64bjr5v3vh_80000gn/T/ipykernel_4908/2175855271.py:12: DtypeWarning: Columns (14,16) have mixed types. Specify dtype option on import or set low_memory=False.\n",
      "  dict_df[prefix] = pd.read_csv(f'{filename}.txt', sep='$', encoding_errors='ignore')\n"
     ]
    },
    {
     "name": "stdout",
     "output_type": "stream",
     "text": [
      "INDI20Q3\n",
      "OUTC20Q3\n",
      "REAC20Q3\n",
      "RPSR20Q3\n",
      "THER20Q3\n",
      "    primaryid    caseid  drug_seq role_cod            drugname  \\\n",
      "0   106552576  10655257         5        C        MIRTAZAPINE.   \n",
      "1   106552576  10655257         5        C        MIRTAZAPINE.   \n",
      "2  1090804911  10908049         6        C          LORAZEPAM.   \n",
      "3  1090804911  10908049         6        C          LORAZEPAM.   \n",
      "4  1090804911  10908049        13        C  ZOLPIDEM TARTRATE.   \n",
      "\n",
      "             prod_ai  val_vbm route  \\\n",
      "0        MIRTAZAPINE        1  Oral   \n",
      "1        MIRTAZAPINE        1  Oral   \n",
      "2          LORAZEPAM        1  Oral   \n",
      "3          LORAZEPAM        1  Oral   \n",
      "4  ZOLPIDEM TARTRATE        1  Oral   \n",
      "\n",
      "                                         dose_vbm  cum_dose_chr  ... to_mfr  \\\n",
      "0                                              45           NaN  ...    NaN   \n",
      "1                                              45           NaN  ...    NaN   \n",
      "2                  1 MG, 3X/DAY (1 THREE X A DAY)           NaN  ...    NaN   \n",
      "3                  1 MG, 3X/DAY (1 THREE X A DAY)           NaN  ...    NaN   \n",
      "4  10 MG, 1X/DAY (1 EVERY NIGHT AT BEDTIME MDD 1)           NaN  ...    NaN   \n",
      "\n",
      "  occp_cod reporter_country occr_country                        pt  \\\n",
      "0       MD               GB           GB  Subarachnoid haemorrhage   \n",
      "1       MD               GB           GB        Subdural haematoma   \n",
      "2       HP               US           US             Off label use   \n",
      "3       HP               US           US                    Stress   \n",
      "4       HP               US           US             Off label use   \n",
      "\n",
      "   drug_rec_act outc_cod rpsr_cod  year quarter  \n",
      "0           NaN       HO      NaN  2020       3  \n",
      "1           NaN       HO      NaN  2020       3  \n",
      "2           NaN      NaN      NaN  2020       3  \n",
      "3           NaN      NaN      NaN  2020       3  \n",
      "4           NaN      NaN      NaN  2020       3  \n",
      "\n",
      "[5 rows x 56 columns]\n",
      "DEMO20Q4\n"
     ]
    },
    {
     "name": "stderr",
     "output_type": "stream",
     "text": [
      "/var/folders/_z/wx40qqws337c64bjr5v3vh_80000gn/T/ipykernel_4908/2175855271.py:12: DtypeWarning: Columns (21) have mixed types. Specify dtype option on import or set low_memory=False.\n",
      "  dict_df[prefix] = pd.read_csv(f'{filename}.txt', sep='$', encoding_errors='ignore')\n"
     ]
    },
    {
     "name": "stdout",
     "output_type": "stream",
     "text": [
      "DRUG20Q4\n"
     ]
    },
    {
     "name": "stderr",
     "output_type": "stream",
     "text": [
      "/var/folders/_z/wx40qqws337c64bjr5v3vh_80000gn/T/ipykernel_4908/2175855271.py:12: DtypeWarning: Columns (14) have mixed types. Specify dtype option on import or set low_memory=False.\n",
      "  dict_df[prefix] = pd.read_csv(f'{filename}.txt', sep='$', encoding_errors='ignore')\n"
     ]
    },
    {
     "name": "stdout",
     "output_type": "stream",
     "text": [
      "INDI20Q4\n",
      "OUTC20Q4\n",
      "REAC20Q4\n",
      "RPSR20Q4\n",
      "THER20Q4\n"
     ]
    },
    {
     "name": "stderr",
     "output_type": "stream",
     "text": [
      "/var/folders/_z/wx40qqws337c64bjr5v3vh_80000gn/T/ipykernel_4908/2175855271.py:12: DtypeWarning: Columns (6) have mixed types. Specify dtype option on import or set low_memory=False.\n",
      "  dict_df[prefix] = pd.read_csv(f'{filename}.txt', sep='$', encoding_errors='ignore')\n"
     ]
    },
    {
     "name": "stdout",
     "output_type": "stream",
     "text": [
      "   primaryid    caseid  drug_seq role_cod drugname                    prod_ai  \\\n",
      "0  107371133  10737113         7        C  EFFEXOR  VENLAFAXINE HYDROCHLORIDE   \n",
      "1  107371133  10737113         7        C  EFFEXOR  VENLAFAXINE HYDROCHLORIDE   \n",
      "2  114797596  11479759        25        C   PROZAC   FLUOXETINE HYDROCHLORIDE   \n",
      "3  114797596  11479759        25        C   PROZAC   FLUOXETINE HYDROCHLORIDE   \n",
      "4  114797596  11479759        25        C   PROZAC   FLUOXETINE HYDROCHLORIDE   \n",
      "\n",
      "   val_vbm route     dose_vbm  cum_dose_chr  ... to_mfr occp_cod  \\\n",
      "0        1   NaN  75 GRAM, QD           NaN  ...    NaN       HP   \n",
      "1        1   NaN  75 GRAM, QD           NaN  ...    NaN       HP   \n",
      "2        1   NaN          UNK           NaN  ...    NaN      NaN   \n",
      "3        1   NaN          UNK           NaN  ...    NaN      NaN   \n",
      "4        1   NaN          UNK           NaN  ...    NaN      NaN   \n",
      "\n",
      "  reporter_country occr_country                    pt  drug_rec_act  outc_cod  \\\n",
      "0               FR           FR             Influenza           NaN        HO   \n",
      "1               FR           FR    Pulmonary embolism           NaN        HO   \n",
      "2               US           US    Bronchitis chronic           NaN        OT   \n",
      "3               US           US  Condition aggravated           NaN        OT   \n",
      "4               US           US                 Cough           NaN        OT   \n",
      "\n",
      "  rpsr_cod  year quarter  \n",
      "0      NaN  2020       4  \n",
      "1      NaN  2020       4  \n",
      "2      NaN  2020       4  \n",
      "3      NaN  2020       4  \n",
      "4      NaN  2020       4  \n",
      "\n",
      "[5 rows x 56 columns]\n",
      "DEMO21Q1\n"
     ]
    },
    {
     "name": "stderr",
     "output_type": "stream",
     "text": [
      "/var/folders/_z/wx40qqws337c64bjr5v3vh_80000gn/T/ipykernel_4908/2175855271.py:12: DtypeWarning: Columns (21) have mixed types. Specify dtype option on import or set low_memory=False.\n",
      "  dict_df[prefix] = pd.read_csv(f'{filename}.txt', sep='$', encoding_errors='ignore')\n"
     ]
    },
    {
     "name": "stdout",
     "output_type": "stream",
     "text": [
      "DRUG21Q1\n",
      "INDI21Q1\n",
      "OUTC21Q1\n",
      "REAC21Q1\n",
      "RPSR21Q1\n",
      "THER21Q1\n"
     ]
    },
    {
     "name": "stderr",
     "output_type": "stream",
     "text": [
      "/var/folders/_z/wx40qqws337c64bjr5v3vh_80000gn/T/ipykernel_4908/2175855271.py:12: DtypeWarning: Columns (6) have mixed types. Specify dtype option on import or set low_memory=False.\n",
      "  dict_df[prefix] = pd.read_csv(f'{filename}.txt', sep='$', encoding_errors='ignore')\n"
     ]
    },
    {
     "name": "stdout",
     "output_type": "stream",
     "text": [
      "    primaryid    caseid  drug_seq role_cod drugname                  prod_ai  \\\n",
      "0  1045127519  10451275        31        C  DESYREL  TRAZODONE HYDROCHLORIDE   \n",
      "1  1045127519  10451275        31        C  DESYREL  TRAZODONE HYDROCHLORIDE   \n",
      "2  1045127519  10451275        31        C  DESYREL  TRAZODONE HYDROCHLORIDE   \n",
      "3  1045127519  10451275        31        C  DESYREL  TRAZODONE HYDROCHLORIDE   \n",
      "4  1045127519  10451275        31        C  DESYREL  TRAZODONE HYDROCHLORIDE   \n",
      "\n",
      "   val_vbm route dose_vbm  cum_dose_chr  ... to_mfr occp_cod reporter_country  \\\n",
      "0        1   NaN      NaN           NaN  ...    NaN       MD               US   \n",
      "1        1   NaN      NaN           NaN  ...    NaN       MD               US   \n",
      "2        1   NaN      NaN           NaN  ...    NaN       MD               US   \n",
      "3        1   NaN      NaN           NaN  ...    NaN       MD               US   \n",
      "4        1   NaN      NaN           NaN  ...    NaN       MD               US   \n",
      "\n",
      "  occr_country                        pt  drug_rec_act  outc_cod rpsr_cod  \\\n",
      "0           US          Balance disorder           NaN        OT      NaN   \n",
      "1           US         Confusional state           NaN        OT      NaN   \n",
      "2           US  Drug withdrawal syndrome           NaN        OT      NaN   \n",
      "3           US                 Dysphonia           NaN        OT      NaN   \n",
      "4           US                   Fatigue           NaN        OT      NaN   \n",
      "\n",
      "   year quarter  \n",
      "0  2021       1  \n",
      "1  2021       1  \n",
      "2  2021       1  \n",
      "3  2021       1  \n",
      "4  2021       1  \n",
      "\n",
      "[5 rows x 56 columns]\n",
      "DEMO21Q2\n"
     ]
    },
    {
     "name": "stderr",
     "output_type": "stream",
     "text": [
      "/var/folders/_z/wx40qqws337c64bjr5v3vh_80000gn/T/ipykernel_4908/2175855271.py:12: DtypeWarning: Columns (21) have mixed types. Specify dtype option on import or set low_memory=False.\n",
      "  dict_df[prefix] = pd.read_csv(f'{filename}.txt', sep='$', encoding_errors='ignore')\n"
     ]
    },
    {
     "name": "stdout",
     "output_type": "stream",
     "text": [
      "DRUG21Q2\n"
     ]
    },
    {
     "name": "stderr",
     "output_type": "stream",
     "text": [
      "/var/folders/_z/wx40qqws337c64bjr5v3vh_80000gn/T/ipykernel_4908/2175855271.py:12: DtypeWarning: Columns (14) have mixed types. Specify dtype option on import or set low_memory=False.\n",
      "  dict_df[prefix] = pd.read_csv(f'{filename}.txt', sep='$', encoding_errors='ignore')\n"
     ]
    },
    {
     "name": "stdout",
     "output_type": "stream",
     "text": [
      "INDI21Q2\n",
      "OUTC21Q2\n",
      "REAC21Q2\n",
      "RPSR21Q2\n",
      "THER21Q2\n"
     ]
    },
    {
     "name": "stderr",
     "output_type": "stream",
     "text": [
      "/var/folders/_z/wx40qqws337c64bjr5v3vh_80000gn/T/ipykernel_4908/2175855271.py:12: DtypeWarning: Columns (6) have mixed types. Specify dtype option on import or set low_memory=False.\n",
      "  dict_df[prefix] = pd.read_csv(f'{filename}.txt', sep='$', encoding_errors='ignore')\n"
     ]
    },
    {
     "name": "stdout",
     "output_type": "stream",
     "text": [
      "   primaryid    caseid  drug_seq role_cod    drugname  \\\n",
      "0  106841322  10684132         1       PS  SERTRALINE   \n",
      "1  106841322  10684132         1       PS  SERTRALINE   \n",
      "2  106841322  10684132         1       PS  SERTRALINE   \n",
      "3  106841322  10684132         1       PS  SERTRALINE   \n",
      "4  106841322  10684132         1       PS  SERTRALINE   \n",
      "\n",
      "                    prod_ai  val_vbm    route      dose_vbm  cum_dose_chr  \\\n",
      "0  SERTRALINE HYDROCHLORIDE        1  Unknown  25 MILLIGRAM           NaN   \n",
      "1  SERTRALINE HYDROCHLORIDE        1  Unknown  25 MILLIGRAM           NaN   \n",
      "2  SERTRALINE HYDROCHLORIDE        1  Unknown  25 MILLIGRAM           NaN   \n",
      "3  SERTRALINE HYDROCHLORIDE        1  Unknown  25 MILLIGRAM           NaN   \n",
      "4  SERTRALINE HYDROCHLORIDE        1  Unknown  25 MILLIGRAM           NaN   \n",
      "\n",
      "   ... to_mfr occp_cod reporter_country occr_country                    pt  \\\n",
      "0  ...    NaN       HP               US           US  Condition aggravated   \n",
      "1  ...    NaN       HP               US           US  Condition aggravated   \n",
      "2  ...    NaN       HP               US           US    Homicidal ideation   \n",
      "3  ...    NaN       HP               US           US    Homicidal ideation   \n",
      "4  ...    NaN       HP               US           US     Suicidal ideation   \n",
      "\n",
      "   drug_rec_act  outc_cod rpsr_cod  year quarter  \n",
      "0           NaN        HO      NaN  2021       2  \n",
      "1           NaN        OT      NaN  2021       2  \n",
      "2           NaN        HO      NaN  2021       2  \n",
      "3           NaN        OT      NaN  2021       2  \n",
      "4           NaN        HO      NaN  2021       2  \n",
      "\n",
      "[5 rows x 56 columns]\n",
      "DEMO21Q3\n"
     ]
    },
    {
     "name": "stderr",
     "output_type": "stream",
     "text": [
      "/var/folders/_z/wx40qqws337c64bjr5v3vh_80000gn/T/ipykernel_4908/2175855271.py:12: DtypeWarning: Columns (21) have mixed types. Specify dtype option on import or set low_memory=False.\n",
      "  dict_df[prefix] = pd.read_csv(f'{filename}.txt', sep='$', encoding_errors='ignore')\n"
     ]
    },
    {
     "name": "stdout",
     "output_type": "stream",
     "text": [
      "DRUG21Q3\n"
     ]
    },
    {
     "name": "stderr",
     "output_type": "stream",
     "text": [
      "/var/folders/_z/wx40qqws337c64bjr5v3vh_80000gn/T/ipykernel_4908/2175855271.py:12: DtypeWarning: Columns (14) have mixed types. Specify dtype option on import or set low_memory=False.\n",
      "  dict_df[prefix] = pd.read_csv(f'{filename}.txt', sep='$', encoding_errors='ignore')\n"
     ]
    },
    {
     "name": "stdout",
     "output_type": "stream",
     "text": [
      "INDI21Q3\n",
      "OUTC21Q3\n",
      "REAC21Q3\n",
      "RPSR21Q3\n",
      "THER21Q3\n"
     ]
    },
    {
     "name": "stderr",
     "output_type": "stream",
     "text": [
      "/var/folders/_z/wx40qqws337c64bjr5v3vh_80000gn/T/ipykernel_4908/2175855271.py:12: DtypeWarning: Columns (6) have mixed types. Specify dtype option on import or set low_memory=False.\n",
      "  dict_df[prefix] = pd.read_csv(f'{filename}.txt', sep='$', encoding_errors='ignore')\n"
     ]
    },
    {
     "name": "stdout",
     "output_type": "stream",
     "text": [
      "    primaryid    caseid  drug_seq role_cod drugname                  prod_ai  \\\n",
      "0  1045127520  10451275        31        C  DESYREL  TRAZODONE HYDROCHLORIDE   \n",
      "1  1045127520  10451275        31        C  DESYREL  TRAZODONE HYDROCHLORIDE   \n",
      "2  1045127520  10451275        31        C  DESYREL  TRAZODONE HYDROCHLORIDE   \n",
      "3  1045127520  10451275        31        C  DESYREL  TRAZODONE HYDROCHLORIDE   \n",
      "4  1045127520  10451275        31        C  DESYREL  TRAZODONE HYDROCHLORIDE   \n",
      "\n",
      "   val_vbm route dose_vbm  cum_dose_chr  ... to_mfr occp_cod reporter_country  \\\n",
      "0        1   NaN      NaN           NaN  ...    NaN       CN               US   \n",
      "1        1   NaN      NaN           NaN  ...    NaN       CN               US   \n",
      "2        1   NaN      NaN           NaN  ...    NaN       CN               US   \n",
      "3        1   NaN      NaN           NaN  ...    NaN       CN               US   \n",
      "4        1   NaN      NaN           NaN  ...    NaN       CN               US   \n",
      "\n",
      "  occr_country                        pt  drug_rec_act  outc_cod rpsr_cod  \\\n",
      "0           US          Balance disorder           NaN        OT      NaN   \n",
      "1           US         Confusional state           NaN        OT      NaN   \n",
      "2           US  Drug withdrawal syndrome           NaN        OT      NaN   \n",
      "3           US                 Dysphonia           NaN        OT      NaN   \n",
      "4           US                   Fatigue           NaN        OT      NaN   \n",
      "\n",
      "   year quarter  \n",
      "0  2021       3  \n",
      "1  2021       3  \n",
      "2  2021       3  \n",
      "3  2021       3  \n",
      "4  2021       3  \n",
      "\n",
      "[5 rows x 56 columns]\n",
      "DEMO21Q4\n"
     ]
    },
    {
     "name": "stderr",
     "output_type": "stream",
     "text": [
      "/var/folders/_z/wx40qqws337c64bjr5v3vh_80000gn/T/ipykernel_4908/2175855271.py:12: DtypeWarning: Columns (21) have mixed types. Specify dtype option on import or set low_memory=False.\n",
      "  dict_df[prefix] = pd.read_csv(f'{filename}.txt', sep='$', encoding_errors='ignore')\n"
     ]
    },
    {
     "name": "stdout",
     "output_type": "stream",
     "text": [
      "DRUG21Q4\n",
      "INDI21Q4\n",
      "OUTC21Q4\n",
      "REAC21Q4\n",
      "RPSR21Q4\n",
      "THER21Q4\n",
      "   primaryid    caseid  drug_seq role_cod     drugname      prod_ai  val_vbm  \\\n",
      "0  104605494  10460549         1       PS  MIRTAZAPINE  MIRTAZAPINE        1   \n",
      "1  104605494  10460549         1       PS  MIRTAZAPINE  MIRTAZAPINE        1   \n",
      "2  104605494  10460549         1       PS  MIRTAZAPINE  MIRTAZAPINE        1   \n",
      "3  104605494  10460549         1       PS  MIRTAZAPINE  MIRTAZAPINE        1   \n",
      "4  104605494  10460549         1       PS  MIRTAZAPINE  MIRTAZAPINE        1   \n",
      "\n",
      "     route             dose_vbm  cum_dose_chr  ... to_mfr occp_cod  \\\n",
      "0  Unknown  30 milligram, Daily           NaN  ...    NaN       MD   \n",
      "1  Unknown  30 milligram, Daily           NaN  ...    NaN       MD   \n",
      "2  Unknown  30 milligram, Daily           NaN  ...    NaN       MD   \n",
      "3  Unknown  30 milligram, Daily           NaN  ...    NaN       MD   \n",
      "4  Unknown  30 milligram, Daily           NaN  ...    NaN       MD   \n",
      "\n",
      "  reporter_country occr_country                    pt  drug_rec_act  outc_cod  \\\n",
      "0               CA           CA  Condition aggravated           NaN        OT   \n",
      "1               CA           CA  Condition aggravated           NaN        DE   \n",
      "2               CA           CA  Condition aggravated           NaN        HO   \n",
      "3               CA           CA  Condition aggravated           NaN        DS   \n",
      "4               CA           CA     Urinary retention           NaN        OT   \n",
      "\n",
      "  rpsr_cod  year quarter  \n",
      "0      NaN  2021       4  \n",
      "1      NaN  2021       4  \n",
      "2      NaN  2021       4  \n",
      "3      NaN  2021       4  \n",
      "4      NaN  2021       4  \n",
      "\n",
      "[5 rows x 56 columns]\n",
      "DEMO22Q1\n"
     ]
    },
    {
     "name": "stderr",
     "output_type": "stream",
     "text": [
      "/var/folders/_z/wx40qqws337c64bjr5v3vh_80000gn/T/ipykernel_4908/2175855271.py:12: DtypeWarning: Columns (21) have mixed types. Specify dtype option on import or set low_memory=False.\n",
      "  dict_df[prefix] = pd.read_csv(f'{filename}.txt', sep='$', encoding_errors='ignore')\n"
     ]
    },
    {
     "name": "stdout",
     "output_type": "stream",
     "text": [
      "DRUG22Q1\n",
      "INDI22Q1\n",
      "OUTC22Q1\n",
      "REAC22Q1\n",
      "RPSR22Q1\n",
      "THER22Q1\n",
      "   primaryid    caseid  drug_seq role_cod                  drugname  \\\n",
      "0  102816768  10281676         1       PS  PRISTIQ EXTENDED-RELEASE   \n",
      "1  102816768  10281676         1       PS  PRISTIQ EXTENDED-RELEASE   \n",
      "2  102816768  10281676         1       PS  PRISTIQ EXTENDED-RELEASE   \n",
      "3  102816768  10281676         1       PS  PRISTIQ EXTENDED-RELEASE   \n",
      "4  102816768  10281676         1       PS  PRISTIQ EXTENDED-RELEASE   \n",
      "\n",
      "                    prod_ai  val_vbm route        dose_vbm  cum_dose_chr  ...  \\\n",
      "0  DESVENLAFAXINE SUCCINATE        1  Oral  100 mg, 1x/day           NaN  ...   \n",
      "1  DESVENLAFAXINE SUCCINATE        1  Oral  100 mg, 1x/day           NaN  ...   \n",
      "2  DESVENLAFAXINE SUCCINATE        1  Oral  100 mg, 1x/day           NaN  ...   \n",
      "3  DESVENLAFAXINE SUCCINATE        1  Oral  100 mg, 1x/day           NaN  ...   \n",
      "4  DESVENLAFAXINE SUCCINATE        1  Oral  100 mg, 1x/day           NaN  ...   \n",
      "\n",
      "  to_mfr occp_cod reporter_country occr_country                           pt  \\\n",
      "0    NaN       MD               US           US  Cervical vertebral fracture   \n",
      "1    NaN       MD               US           US                    Dysphonia   \n",
      "2    NaN       MD               US           US             Feeling abnormal   \n",
      "3    NaN       MD               US           US                        Shock   \n",
      "4    NaN       MD               US           US     Drug withdrawal syndrome   \n",
      "\n",
      "   drug_rec_act  outc_cod rpsr_cod  year quarter  \n",
      "0           NaN        OT      NaN  2022       1  \n",
      "1           NaN        OT      NaN  2022       1  \n",
      "2           NaN        OT      NaN  2022       1  \n",
      "3           NaN        OT      NaN  2022       1  \n",
      "4           NaN        OT      NaN  2022       1  \n",
      "\n",
      "[5 rows x 56 columns]\n",
      "DEMO22Q2\n"
     ]
    },
    {
     "name": "stderr",
     "output_type": "stream",
     "text": [
      "/var/folders/_z/wx40qqws337c64bjr5v3vh_80000gn/T/ipykernel_4908/2175855271.py:12: DtypeWarning: Columns (21) have mixed types. Specify dtype option on import or set low_memory=False.\n",
      "  dict_df[prefix] = pd.read_csv(f'{filename}.txt', sep='$', encoding_errors='ignore')\n"
     ]
    },
    {
     "name": "stdout",
     "output_type": "stream",
     "text": [
      "DRUG22Q2\n",
      "INDI22Q2\n",
      "OUTC22Q2\n",
      "REAC22Q2\n",
      "RPSR22Q2\n",
      "THER22Q2\n",
      "    primaryid    caseid  drug_seq role_cod   drugname       prod_ai  val_vbm  \\\n",
      "0   115896565  11589656         1       PS  RISPERDAL   RISPERIDONE        1   \n",
      "1   115896565  11589656         1       PS  RISPERDAL   RISPERIDONE        1   \n",
      "2   115896565  11589656         1       PS  RISPERDAL   RISPERIDONE        1   \n",
      "3  1181214120  11812141         3       SS    ABILIFY  ARIPIPRAZOLE        1   \n",
      "4  1181214120  11812141         3       SS    ABILIFY  ARIPIPRAZOLE        1   \n",
      "\n",
      "  route dose_vbm  cum_dose_chr  ... to_mfr occp_cod reporter_country  \\\n",
      "0  Oral      NaN           NaN  ...    NaN       LW               US   \n",
      "1  Oral      NaN           NaN  ...    NaN       LW               US   \n",
      "2  Oral      NaN           NaN  ...    NaN       LW               US   \n",
      "3   NaN      NaN           NaN  ...    NaN       MD               CA   \n",
      "4   NaN      NaN           NaN  ...    NaN       MD               CA   \n",
      "\n",
      "  occr_country                    pt  drug_rec_act  outc_cod rpsr_cod  year  \\\n",
      "0           US   Hyperprolactinaemia           NaN        OT      NaN  2022   \n",
      "1           US  Abnormal weight gain           NaN        OT      NaN  2022   \n",
      "2           US         Gynaecomastia           NaN        OT      NaN  2022   \n",
      "3           CA                Nausea           NaN        OT      NaN  2022   \n",
      "4           CA                Nausea           NaN        HO      NaN  2022   \n",
      "\n",
      "  quarter  \n",
      "0       2  \n",
      "1       2  \n",
      "2       2  \n",
      "3       2  \n",
      "4       2  \n",
      "\n",
      "[5 rows x 56 columns]\n",
      "DEMO22Q3\n"
     ]
    },
    {
     "name": "stderr",
     "output_type": "stream",
     "text": [
      "/var/folders/_z/wx40qqws337c64bjr5v3vh_80000gn/T/ipykernel_4908/2175855271.py:12: DtypeWarning: Columns (21) have mixed types. Specify dtype option on import or set low_memory=False.\n",
      "  dict_df[prefix] = pd.read_csv(f'{filename}.txt', sep='$', encoding_errors='ignore')\n"
     ]
    },
    {
     "name": "stdout",
     "output_type": "stream",
     "text": [
      "DRUG22Q3\n",
      "INDI22Q3\n",
      "OUTC22Q3\n",
      "REAC22Q3\n",
      "RPSR22Q3\n",
      "THER22Q3\n",
      "   primaryid    caseid  drug_seq role_cod                  drugname  \\\n",
      "0  102816769  10281676         1       PS  PRISTIQ EXTENDED-RELEASE   \n",
      "1  102816769  10281676         1       PS  PRISTIQ EXTENDED-RELEASE   \n",
      "2  102816769  10281676         1       PS  PRISTIQ EXTENDED-RELEASE   \n",
      "3  102816769  10281676         1       PS  PRISTIQ EXTENDED-RELEASE   \n",
      "4  102816769  10281676         1       PS  PRISTIQ EXTENDED-RELEASE   \n",
      "\n",
      "                    prod_ai  val_vbm route        dose_vbm  cum_dose_chr  ...  \\\n",
      "0  DESVENLAFAXINE SUCCINATE        1  Oral  100 mg, 1x/day           NaN  ...   \n",
      "1  DESVENLAFAXINE SUCCINATE        1  Oral  100 mg, 1x/day           NaN  ...   \n",
      "2  DESVENLAFAXINE SUCCINATE        1  Oral  100 mg, 1x/day           NaN  ...   \n",
      "3  DESVENLAFAXINE SUCCINATE        1  Oral  100 mg, 1x/day           NaN  ...   \n",
      "4  DESVENLAFAXINE SUCCINATE        1  Oral  100 mg, 1x/day           NaN  ...   \n",
      "\n",
      "  to_mfr occp_cod reporter_country occr_country                           pt  \\\n",
      "0    NaN       MD               US           US                      Amnesia   \n",
      "1    NaN       MD               US           US                      Illness   \n",
      "2    NaN       MD               US           US  Cervical vertebral fracture   \n",
      "3    NaN       MD               US           US                    Dysphonia   \n",
      "4    NaN       MD               US           US                      Malaise   \n",
      "\n",
      "   drug_rec_act  outc_cod rpsr_cod  year quarter  \n",
      "0           NaN        OT      NaN  2022       3  \n",
      "1           NaN        OT      NaN  2022       3  \n",
      "2           NaN        OT      NaN  2022       3  \n",
      "3           NaN        OT      NaN  2022       3  \n",
      "4           NaN        OT      NaN  2022       3  \n",
      "\n",
      "[5 rows x 56 columns]\n",
      "DEMO22Q4\n"
     ]
    },
    {
     "name": "stderr",
     "output_type": "stream",
     "text": [
      "/var/folders/_z/wx40qqws337c64bjr5v3vh_80000gn/T/ipykernel_4908/2175855271.py:12: DtypeWarning: Columns (21) have mixed types. Specify dtype option on import or set low_memory=False.\n",
      "  dict_df[prefix] = pd.read_csv(f'{filename}.txt', sep='$', encoding_errors='ignore')\n"
     ]
    },
    {
     "name": "stdout",
     "output_type": "stream",
     "text": [
      "DRUG22Q4\n",
      "INDI22Q4\n",
      "OUTC22Q4\n",
      "REAC22Q4\n",
      "RPSR22Q4\n",
      "THER22Q4\n",
      "    primaryid    caseid  drug_seq role_cod                  drugname  \\\n",
      "0  1009456310  10094563         2       SS  PRISTIQ EXTENDED-RELEASE   \n",
      "1  1009456310  10094563         2       SS  PRISTIQ EXTENDED-RELEASE   \n",
      "2  1009456310  10094563         2       SS  PRISTIQ EXTENDED-RELEASE   \n",
      "3  1009456310  10094563         2       SS  PRISTIQ EXTENDED-RELEASE   \n",
      "4  1217131112  12171311         1       PS                   PREMPRO   \n",
      "\n",
      "                                             prod_ai  val_vbm route  \\\n",
      "0                           DESVENLAFAXINE SUCCINATE        1   NaN   \n",
      "1                           DESVENLAFAXINE SUCCINATE        1   NaN   \n",
      "2                           DESVENLAFAXINE SUCCINATE        1   NaN   \n",
      "3                           DESVENLAFAXINE SUCCINATE        1   NaN   \n",
      "4  ESTROGENS, CONJUGATED\\MEDROXYPROGESTERONE ACETATE        1  Oral   \n",
      "\n",
      "                         dose_vbm  cum_dose_chr  ... to_mfr occp_cod  \\\n",
      "0                             UNK           NaN  ...    NaN       MD   \n",
      "1                             UNK           NaN  ...    NaN       MD   \n",
      "2                             UNK           NaN  ...    NaN       MD   \n",
      "3                             UNK           NaN  ...    NaN       MD   \n",
      "4  1 DF, 1xday (0.625 mg/ 2.5 mg)           NaN  ...    NaN       HP   \n",
      "\n",
      "  reporter_country occr_country                   pt  drug_rec_act  outc_cod  \\\n",
      "0               US           US      Mental disorder           NaN       NaN   \n",
      "1               US           US        Off label use           NaN       NaN   \n",
      "2               US           US     Drug ineffective           NaN       NaN   \n",
      "3               US           US  Withdrawal syndrome           NaN       NaN   \n",
      "4               US           US         Night sweats           NaN        OT   \n",
      "\n",
      "  rpsr_cod  year quarter  \n",
      "0      NaN  2022       4  \n",
      "1      NaN  2022       4  \n",
      "2      NaN  2022       4  \n",
      "3      NaN  2022       4  \n",
      "4      NaN  2022       4  \n",
      "\n",
      "[5 rows x 56 columns]\n",
      "DEMO23Q1\n"
     ]
    },
    {
     "name": "stderr",
     "output_type": "stream",
     "text": [
      "/var/folders/_z/wx40qqws337c64bjr5v3vh_80000gn/T/ipykernel_4908/2175855271.py:12: DtypeWarning: Columns (21) have mixed types. Specify dtype option on import or set low_memory=False.\n",
      "  dict_df[prefix] = pd.read_csv(f'{filename}.txt', sep='$', encoding_errors='ignore')\n"
     ]
    },
    {
     "name": "stdout",
     "output_type": "stream",
     "text": [
      "DRUG23Q1\n",
      "INDI23Q1\n",
      "OUTC23Q1\n",
      "REAC23Q1\n",
      "RPSR23Q1\n",
      "THER23Q1\n",
      "    primaryid    caseid  drug_seq role_cod                  drugname  \\\n",
      "0  1028167611  10281676         1       PS  PRISTIQ EXTENDED-RELEASE   \n",
      "1  1028167611  10281676         1       PS  PRISTIQ EXTENDED-RELEASE   \n",
      "2  1028167611  10281676         1       PS  PRISTIQ EXTENDED-RELEASE   \n",
      "3  1028167611  10281676         1       PS  PRISTIQ EXTENDED-RELEASE   \n",
      "4  1028167611  10281676         1       PS  PRISTIQ EXTENDED-RELEASE   \n",
      "\n",
      "                    prod_ai  val_vbm route        dose_vbm  cum_dose_chr  ...  \\\n",
      "0  DESVENLAFAXINE SUCCINATE        1  Oral  100 mg, 1x/day           NaN  ...   \n",
      "1  DESVENLAFAXINE SUCCINATE        1  Oral  100 mg, 1x/day           NaN  ...   \n",
      "2  DESVENLAFAXINE SUCCINATE        1  Oral  100 mg, 1x/day           NaN  ...   \n",
      "3  DESVENLAFAXINE SUCCINATE        1  Oral  100 mg, 1x/day           NaN  ...   \n",
      "4  DESVENLAFAXINE SUCCINATE        1  Oral  100 mg, 1x/day           NaN  ...   \n",
      "\n",
      "  to_mfr occp_cod reporter_country occr_country                           pt  \\\n",
      "0    NaN       MD               US           US           Suspected COVID-19   \n",
      "1    NaN       MD               US           US                   Bronchitis   \n",
      "2    NaN       MD               US           US                      Malaise   \n",
      "3    NaN       MD               US           US                  Nervousness   \n",
      "4    NaN       MD               US           US  Cervical vertebral fracture   \n",
      "\n",
      "   drug_rec_act  outc_cod rpsr_cod  year quarter  \n",
      "0           NaN        OT      NaN  2023       1  \n",
      "1           NaN        OT      NaN  2023       1  \n",
      "2           NaN        OT      NaN  2023       1  \n",
      "3           NaN        OT      NaN  2023       1  \n",
      "4           NaN        OT      NaN  2023       1  \n",
      "\n",
      "[5 rows x 56 columns]\n",
      "DEMO23Q2\n"
     ]
    },
    {
     "name": "stderr",
     "output_type": "stream",
     "text": [
      "/var/folders/_z/wx40qqws337c64bjr5v3vh_80000gn/T/ipykernel_4908/2175855271.py:12: DtypeWarning: Columns (21) have mixed types. Specify dtype option on import or set low_memory=False.\n",
      "  dict_df[prefix] = pd.read_csv(f'{filename}.txt', sep='$', encoding_errors='ignore')\n"
     ]
    },
    {
     "name": "stdout",
     "output_type": "stream",
     "text": [
      "DRUG23Q2\n",
      "INDI23Q2\n",
      "OUTC23Q2\n",
      "REAC23Q2\n",
      "RPSR23Q2\n",
      "THER23Q2\n",
      "    primaryid    caseid  drug_seq role_cod  drugname               prod_ai  \\\n",
      "0   119354102  11935410         1       PS   REXULTI         BREXPIPRAZOLE   \n",
      "1   119354102  11935410         1       PS   REXULTI         BREXPIPRAZOLE   \n",
      "2   119354102  11935410         2       SS   ABILIFY          ARIPIPRAZOLE   \n",
      "3   119354102  11935410         2       SS   ABILIFY          ARIPIPRAZOLE   \n",
      "4  1240791442  12407914        21        C  CIPRALEX  ESCITALOPRAM OXALATE   \n",
      "\n",
      "   val_vbm    route           dose_vbm  cum_dose_chr  ... to_mfr occp_cod  \\\n",
      "0        1  Unknown           2 mg, qd           NaN  ...    NaN       CN   \n",
      "1        1  Unknown           2 mg, qd           NaN  ...    NaN       CN   \n",
      "2        1  Unknown           2 mg, qd           NaN  ...    NaN       CN   \n",
      "3        1  Unknown           2 mg, qd           NaN  ...    NaN       CN   \n",
      "4        1     Oral  1 dosage form, QD           NaN  ...    NaN       MD   \n",
      "\n",
      "  reporter_country occr_country                          pt  drug_rec_act  \\\n",
      "0               US           US  Postmenopausal haemorrhage           NaN   \n",
      "1               US           US            Drug ineffective           NaN   \n",
      "2               US           US  Postmenopausal haemorrhage           NaN   \n",
      "3               US           US            Drug ineffective           NaN   \n",
      "4               CA           CA                   Urticaria           NaN   \n",
      "\n",
      "   outc_cod rpsr_cod  year quarter  \n",
      "0        OT      NaN  2023       2  \n",
      "1        OT      NaN  2023       2  \n",
      "2        OT      NaN  2023       2  \n",
      "3        OT      NaN  2023       2  \n",
      "4        HO      NaN  2023       2  \n",
      "\n",
      "[5 rows x 56 columns]\n",
      "DEMO23Q3\n"
     ]
    },
    {
     "name": "stderr",
     "output_type": "stream",
     "text": [
      "/var/folders/_z/wx40qqws337c64bjr5v3vh_80000gn/T/ipykernel_4908/2175855271.py:12: DtypeWarning: Columns (21) have mixed types. Specify dtype option on import or set low_memory=False.\n",
      "  dict_df[prefix] = pd.read_csv(f'{filename}.txt', sep='$', encoding_errors='ignore')\n"
     ]
    },
    {
     "name": "stdout",
     "output_type": "stream",
     "text": [
      "DRUG23Q3\n",
      "INDI23Q3\n",
      "OUTC23Q3\n",
      "REAC23Q3\n",
      "RPSR23Q3\n",
      "THER23Q3\n",
      "    primaryid    caseid  drug_seq role_cod                  drugname  \\\n",
      "0  1028167612  10281676         1       PS  PRISTIQ EXTENDED-RELEASE   \n",
      "1  1028167612  10281676         1       PS  PRISTIQ EXTENDED-RELEASE   \n",
      "2  1028167612  10281676         1       PS  PRISTIQ EXTENDED-RELEASE   \n",
      "3  1028167612  10281676         1       PS  PRISTIQ EXTENDED-RELEASE   \n",
      "4  1028167612  10281676         1       PS  PRISTIQ EXTENDED-RELEASE   \n",
      "\n",
      "                    prod_ai  val_vbm route        dose_vbm  cum_dose_chr  ...  \\\n",
      "0  DESVENLAFAXINE SUCCINATE        1  Oral  100 mg, 1x/day           NaN  ...   \n",
      "1  DESVENLAFAXINE SUCCINATE        1  Oral  100 mg, 1x/day           NaN  ...   \n",
      "2  DESVENLAFAXINE SUCCINATE        1  Oral  100 mg, 1x/day           NaN  ...   \n",
      "3  DESVENLAFAXINE SUCCINATE        1  Oral  100 mg, 1x/day           NaN  ...   \n",
      "4  DESVENLAFAXINE SUCCINATE        1  Oral  100 mg, 1x/day           NaN  ...   \n",
      "\n",
      "  to_mfr occp_cod reporter_country occr_country                 pt  \\\n",
      "0    NaN       MD               US           US  Mental impairment   \n",
      "1    NaN       MD               US           US              Shock   \n",
      "2    NaN       MD               US           US            Amnesia   \n",
      "3    NaN       MD               US           US   Feeling abnormal   \n",
      "4    NaN       MD               US           US          Dysphonia   \n",
      "\n",
      "   drug_rec_act  outc_cod rpsr_cod  year quarter  \n",
      "0           NaN        OT      NaN  2023       3  \n",
      "1           NaN        OT      NaN  2023       3  \n",
      "2           NaN        OT      NaN  2023       3  \n",
      "3           NaN        OT      NaN  2023       3  \n",
      "4           NaN        OT      NaN  2023       3  \n",
      "\n",
      "[5 rows x 56 columns]\n",
      "DEMO23Q4\n"
     ]
    },
    {
     "name": "stderr",
     "output_type": "stream",
     "text": [
      "/var/folders/_z/wx40qqws337c64bjr5v3vh_80000gn/T/ipykernel_4908/2175855271.py:12: DtypeWarning: Columns (21) have mixed types. Specify dtype option on import or set low_memory=False.\n",
      "  dict_df[prefix] = pd.read_csv(f'{filename}.txt', sep='$', encoding_errors='ignore')\n"
     ]
    },
    {
     "name": "stdout",
     "output_type": "stream",
     "text": [
      "DRUG23Q4\n",
      "INDI23Q4\n",
      "OUTC23Q4\n",
      "REAC23Q4\n",
      "RPSR23Q4\n",
      "THER23Q4\n",
      "   primaryid    caseid  drug_seq role_cod                  drugname  \\\n",
      "0  121684513  12168451         2        C  FLUOXETINE HYDROCHLORIDE   \n",
      "1  121684513  12168451         2        C  FLUOXETINE HYDROCHLORIDE   \n",
      "2  121684513  12168451         2        C  FLUOXETINE HYDROCHLORIDE   \n",
      "3  121684513  12168451         2        C  FLUOXETINE HYDROCHLORIDE   \n",
      "4  121684513  12168451         2        C  FLUOXETINE HYDROCHLORIDE   \n",
      "\n",
      "                    prod_ai  val_vbm  route dose_vbm  cum_dose_chr  ...  \\\n",
      "0  FLUOXETINE HYDROCHLORIDE        1  Other      NaN           NaN  ...   \n",
      "1  FLUOXETINE HYDROCHLORIDE        1  Other      NaN           NaN  ...   \n",
      "2  FLUOXETINE HYDROCHLORIDE        1  Other      NaN           NaN  ...   \n",
      "3  FLUOXETINE HYDROCHLORIDE        1  Other      NaN           NaN  ...   \n",
      "4  FLUOXETINE HYDROCHLORIDE        1  Other      NaN           NaN  ...   \n",
      "\n",
      "  to_mfr occp_cod reporter_country occr_country  \\\n",
      "0    NaN       MD               AT           AT   \n",
      "1    NaN       MD               AT           AT   \n",
      "2    NaN       MD               AT           AT   \n",
      "3    NaN       MD               AT           AT   \n",
      "4    NaN       MD               AT           AT   \n",
      "\n",
      "                                            pt  drug_rec_act  outc_cod  \\\n",
      "0  Immune reconstitution inflammatory syndrome           NaN        HO   \n",
      "1  Immune reconstitution inflammatory syndrome           NaN        OT   \n",
      "2   Progressive multifocal leukoencephalopathy           NaN        HO   \n",
      "3   Progressive multifocal leukoencephalopathy           NaN        OT   \n",
      "4                            Visual impairment           NaN        HO   \n",
      "\n",
      "  rpsr_cod  year quarter  \n",
      "0      NaN  2023       4  \n",
      "1      NaN  2023       4  \n",
      "2      NaN  2023       4  \n",
      "3      NaN  2023       4  \n",
      "4      NaN  2023       4  \n",
      "\n",
      "[5 rows x 56 columns]\n"
     ]
    }
   ],
   "source": [
    "filename_prefixes = ['DEMO', 'DRUG', 'INDI', 'OUTC', 'REAC', 'RPSR', 'THER']\n",
    "faers = []\n",
    "\n",
    "for year in range(19, 24):\n",
    "\n",
    "    for quarter in range(1,5):\n",
    "        dict_df = {}\n",
    "\n",
    "        for prefix in filename_prefixes:\n",
    "            filename = f'{prefix}{year}Q{quarter}'\n",
    "            print(filename)\n",
    "            dict_df[prefix] = pd.read_csv(f'{filename}.txt', sep='$', encoding_errors='ignore')\n",
    "        \n",
    "        deleted_case_filename = f'DELETE{year}Q{quarter}'\n",
    "        deleted = pd.read_csv(f'{deleted_case_filename}.txt', sep='$', encoding_errors='ignore', names=['caseid'])\n",
    "        \n",
    "        dict_df['INDI'] = dict_df['INDI'][dict_df['INDI']['indi_pt'].str.contains('depress')]\n",
    "        df = pd.merge(dict_df['DRUG'], dict_df['INDI'], left_on=('primaryid', 'drug_seq'), right_on=('primaryid', 'indi_drug_seq'), suffixes=(None, '_DROP'))\n",
    "        df = pd.merge(df, dict_df['THER'], how='left', left_on=('primaryid', 'drug_seq'), right_on=('primaryid', 'dsg_drug_seq'), suffixes=(None, '_DROP'))\n",
    "        df = pd.merge(df, dict_df['DEMO'], on='primaryid', suffixes=(None, '_DROP'))\n",
    "        df = pd.merge(df, dict_df['REAC'], how='left', on='primaryid', suffixes=(None, '_DROP'))\n",
    "        df = pd.merge(df, dict_df['OUTC'], how='left', on='primaryid', suffixes=(None, '_DROP'))\n",
    "        df = pd.merge(df, dict_df['RPSR'], how='left', on='primaryid', suffixes=(None, '_DROP'))\n",
    "        df = df.filter(regex='^(?!.*_DROP)')\n",
    "        df.drop(df[df['caseid'].isin(deleted['caseid'])].index, inplace=True)\n",
    "        df['year'] = year + 2000\n",
    "        df['quarter'] = quarter\n",
    "        faers.append(df)\n",
    "        print(df.head())"
   ]
  },
  {
   "cell_type": "code",
   "execution_count": 3,
   "metadata": {},
   "outputs": [],
   "source": [
    "data = pd.concat(faers, ignore_index=True)\n",
    "\n",
    "data.to_csv('FAERS_19Q1_23Q4.csv')"
   ]
  },
  {
   "cell_type": "markdown",
   "metadata": {},
   "source": [
    "## 2. CLEANING DATA"
   ]
  },
  {
   "cell_type": "code",
   "execution_count": null,
   "metadata": {},
   "outputs": [],
   "source": []
  }
 ],
 "metadata": {
  "kernelspec": {
   "display_name": "Python 3",
   "language": "python",
   "name": "python3"
  },
  "language_info": {
   "codemirror_mode": {
    "name": "ipython",
    "version": 3
   },
   "file_extension": ".py",
   "mimetype": "text/x-python",
   "name": "python",
   "nbconvert_exporter": "python",
   "pygments_lexer": "ipython3",
   "version": "3.9.6"
  },
  "orig_nbformat": 4
 },
 "nbformat": 4,
 "nbformat_minor": 2
}
